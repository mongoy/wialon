{
 "cells": [
  {
   "cell_type": "code",
   "execution_count": 34,
   "id": "blond-classics",
   "metadata": {},
   "outputs": [],
   "source": [
    "import requests\n",
    "import json\n",
    "import datetime\n",
    "from settings import *\n",
    "from settings_org import TOKEN\n",
    "from add_moduls import DataTime_to_sec, set_period, json_print_save, json_print, report_to_excel\n",
    "from list_TM import search_list_TS, search_list_group_TS"
   ]
  },
  {
   "cell_type": "code",
   "execution_count": 26,
   "id": "downtown-screw",
   "metadata": {},
   "outputs": [],
   "source": [
    "# строка запроса\n",
    "def req_string(params, svc):\n",
    "    \"\"\"\n",
    "    Формируем строку запроса\n",
    "    :param params: пармметры команды\n",
    "    :param svc: комнда\n",
    "    :return: строка запроса\n",
    "    \"\"\"\n",
    "    \n",
    "    data = json.dumps(params, separators=(',', ':'))\n",
    "    \n",
    "    req_text = f\"{URL}{svc}{data}\"\n",
    "    \n",
    "    return req_text"
   ]
  },
  {
   "cell_type": "code",
   "execution_count": 27,
   "id": "instrumental-cycle",
   "metadata": {},
   "outputs": [],
   "source": [
    "# LOGIN API\n",
    "def eid():\n",
    "    \"\"\"\n",
    "    Вход и получение id-сессии\n",
    "    :return: ID сессии\n",
    "    \"\"\"\n",
    "    params = {'token': TOKEN, 'operateAs': '', 'fl': 2}  # fl = 1(2), 1-сокращенная, 2-полная информация\n",
    "    response = requests.get(req_string(params, command_login))\n",
    "#     print(\"\\n\", \"код ответа =\", response, \"\\n\")\n",
    "\n",
    "    # Вывод ответа (response)\n",
    "    # print(\"response:\\n{}\\n\".format(response))\n",
    "    # print(\"response.url:\\n{}\\n\".format(response.url))                  # Посмотреть формат URL (с параметрами)\n",
    "    # print(\"response.headers:\\n{}\\n\".format(response.headers))          # Header of the request\n",
    "    # print(\"response.status_code:\\n{}\\n\".format(response.status_code))  # Получить код ответа\n",
    "    # print(\"response.text:\\n{}\\n\".format(response.text))                # Text Output\n",
    "    # print(\"response.encoding:\\n{}\\n\".format(response.encoding))        # Узнать, какую кодировку использует Requests\n",
    "    # print(\"response.content:\\n{}\\n\".format(response.content))          # В бинарном виде\n",
    "    # print(\"response.json():\\n{}\\n\".format(response.json()))            # JSON Output\n",
    "    # json_print_save(\"DOC\\\\Main_Response.json\", response.json())\n",
    "\n",
    "    # идентификатор сессии\n",
    "    dict_info = dict(response.json())\n",
    "    eid_org = dict_info['eid']\n",
    "#     print(\"ID сессии =\", eid_org, \"\\n\")\n",
    "    return eid_org"
   ]
  },
  {
   "cell_type": "code",
   "execution_count": 28,
   "id": "hungry-accounting",
   "metadata": {},
   "outputs": [],
   "source": [
    "# LOGOUT API\n",
    "def logout(eid_org):\n",
    "    \"\"\"\n",
    "    Закрытие сессии\n",
    "    :param eid_org: ID сессии\n",
    "    :return:\n",
    "    \"\"\"\n",
    "    req_string = f\"{URL}{command_out}{eid_org}\"\n",
    "    response = requests.get(req_string)\n",
    "    print(\"\\n\", \"Сессия закрыта\", response.json())\n",
    "    return"
   ]
  },
  {
   "cell_type": "code",
   "execution_count": 29,
   "id": "behind-robert",
   "metadata": {},
   "outputs": [],
   "source": [
    "# начало сессии\n",
    "# CONST_SID = eid()"
   ]
  },
  {
   "cell_type": "code",
   "execution_count": 30,
   "id": "lined-newport",
   "metadata": {},
   "outputs": [],
   "source": [
    "def report(url):\n",
    "    \"\"\"\n",
    "    Поиск элемента по ID\n",
    "    :return:\n",
    "    \"\"\"\n",
    "    response = requests.get(url)\n",
    "    print(\"Ответ =\", response.json(), \"\\n\")\n",
    "#     print(\"Отчёты =\", json_print(response.json()[\"items\"]))\n",
    "    json_print_save(\"OUT\\\\report.json\", response.json())\n",
    "    return"
   ]
  },
  {
   "cell_type": "markdown",
   "id": "existing-beverage",
   "metadata": {},
   "source": [
    "### Получение поездок за интервал"
   ]
  },
  {
   "cell_type": "code",
   "execution_count": 31,
   "id": "automatic-norman",
   "metadata": {
    "tags": []
   },
   "outputs": [],
   "source": [
    "# начало сессии\n",
    "CONST_SID = eid()"
   ]
  },
  {
   "cell_type": "code",
   "execution_count": null,
   "id": "future-school",
   "metadata": {
    "collapsed": true,
    "jupyter": {
     "outputs_hidden": true,
     "source_hidden": true
    },
    "tags": []
   },
   "outputs": [],
   "source": [
    "date_first, date_last = set_period()\n",
    "print(date_first, date_last)"
   ]
  },
  {
   "cell_type": "markdown",
   "id": "leading-wrong",
   "metadata": {
    "tags": []
   },
   "source": [
    "#### Получить отчёт за период"
   ]
  },
  {
   "cell_type": "code",
   "execution_count": 26,
   "id": "authentic-singapore",
   "metadata": {
    "tags": []
   },
   "outputs": [],
   "source": [
    "date_first, date_last = [1611068400, 1617202800]\n",
    "\n",
    "period = f\"{datetime.datetime.fromtimestamp(date_first)} - {datetime.datetime.fromtimestamp(date_last)}\"\n",
    "\n",
    "tm = 21369733  # Трактор Т-150 2556ОЕ(Газимурозаводский ДЭУч)"
   ]
  },
  {
   "cell_type": "code",
   "execution_count": null,
   "id": "touched-chamber",
   "metadata": {
    "jupyter": {
     "source_hidden": true
    },
    "tags": []
   },
   "outputs": [],
   "source": [
    "# # Поиск ресурсов - отчётов\n",
    "# params1 = {\"reportResourceId\": 21345040,\n",
    "#            \"reportTemplateId\": 1, \n",
    "#            \"reportObjectId\": tm,\n",
    "#            \"reportObjectSecId\": 0,\n",
    "#            \"interval\": {\n",
    "#                \"from\": date_first, \n",
    "#                \"to\": date_last, \n",
    "#                \"flags\": 0}\n",
    "#           }\n",
    "\n",
    "# print(params1)\n",
    "\n",
    "# data = json.dumps(params1, separators=(',', ':'))\n",
    "# # print(\"data =\", data)\n",
    "# url = f\"{URL}{command_report_exec_report}{data}&sid={CONST_SID}\"\n",
    "# print(\"url =\", url)"
   ]
  },
  {
   "cell_type": "code",
   "execution_count": 35,
   "id": "passive-certificate",
   "metadata": {},
   "outputs": [
    {
     "name": "stdout",
     "output_type": "stream",
     "text": [
      "{}\n",
      "url = https://hst-api.wialon.com/wialon/ajax.html?svc=report/exec_report&params={}\n"
     ]
    }
   ],
   "source": [
    "# Поиск ресурсов - отчётов\n",
    "params1 = {}\n",
    "\n",
    "print(params1)\n",
    "\n",
    "data = json.dumps(params1, separators=(',', ':'))\n",
    "# print(\"data =\", data)\n",
    "url = f\"{URL}{command_report_get_report_tables}{data}\"\n",
    "print(\"url =\", url)"
   ]
  },
  {
   "cell_type": "code",
   "execution_count": 15,
   "id": "asian-signature",
   "metadata": {},
   "outputs": [
    {
     "name": "stdout",
     "output_type": "stream",
     "text": [
      "Ответ = {'error': 4, 'reason': 'VALIDATE_PARAMS_ERROR: {reportResourceId: long, reportTemplateId: long, reportObjectId: long, reportObjectSecId: long, interval: {from: uint, to: uint, flags: uint}}'} \n",
      "\n"
     ]
    }
   ],
   "source": [
    "report(url)\n",
    "# logout(CONST_SID)"
   ]
  },
  {
   "cell_type": "code",
   "execution_count": 24,
   "id": "forty-result",
   "metadata": {},
   "outputs": [
    {
     "name": "stdout",
     "output_type": "stream",
     "text": [
      "{'width': 600, 'height': 600}\n",
      "url = https://hst-api.wialon.com/wialon/ajax.html?svc=report/get_result_map&params={\"width\":600,\"height\":600}&sid=100cb14729c58af61b02b68a6699cbbe\n"
     ]
    }
   ],
   "source": [
    "params3={\n",
    "    \"width\":600,\n",
    "    \"height\":600\n",
    "    }\n",
    "\n",
    "print(params3)\n",
    "\n",
    "data = json.dumps(params3, separators=(',', ':'))\n",
    "# print(\"data =\", data)\n",
    "url = f\"{URL}{command_report_get_result_map}{data}&sid={CONST_SID}\"\n",
    "print(\"url =\", url)"
   ]
  },
  {
   "cell_type": "code",
   "execution_count": 25,
   "id": "hollow-drill",
   "metadata": {},
   "outputs": [
    {
     "ename": "JSONDecodeError",
     "evalue": "Expecting value: line 1 column 1 (char 0)",
     "output_type": "error",
     "traceback": [
      "\u001b[1;31m---------------------------------------------------------------------------\u001b[0m",
      "\u001b[1;31mJSONDecodeError\u001b[0m                           Traceback (most recent call last)",
      "\u001b[1;32m<ipython-input-25-871f0100c808>\u001b[0m in \u001b[0;36m<module>\u001b[1;34m\u001b[0m\n\u001b[1;32m----> 1\u001b[1;33m \u001b[0mreport\u001b[0m\u001b[1;33m(\u001b[0m\u001b[0murl\u001b[0m\u001b[1;33m)\u001b[0m\u001b[1;33m\u001b[0m\u001b[1;33m\u001b[0m\u001b[0m\n\u001b[0m",
      "\u001b[1;32m<ipython-input-20-99bc2781ad62>\u001b[0m in \u001b[0;36mreport\u001b[1;34m(url)\u001b[0m\n\u001b[0;32m      5\u001b[0m     \"\"\"\n\u001b[0;32m      6\u001b[0m     \u001b[0mresponse\u001b[0m \u001b[1;33m=\u001b[0m \u001b[0mrequests\u001b[0m\u001b[1;33m.\u001b[0m\u001b[0mget\u001b[0m\u001b[1;33m(\u001b[0m\u001b[0murl\u001b[0m\u001b[1;33m)\u001b[0m\u001b[1;33m\u001b[0m\u001b[1;33m\u001b[0m\u001b[0m\n\u001b[1;32m----> 7\u001b[1;33m     \u001b[0mprint\u001b[0m\u001b[1;33m(\u001b[0m\u001b[1;34m\"Ответ =\"\u001b[0m\u001b[1;33m,\u001b[0m \u001b[0mresponse\u001b[0m\u001b[1;33m.\u001b[0m\u001b[0mjson\u001b[0m\u001b[1;33m(\u001b[0m\u001b[1;33m)\u001b[0m\u001b[1;33m,\u001b[0m \u001b[1;34m\"\\n\"\u001b[0m\u001b[1;33m)\u001b[0m\u001b[1;33m\u001b[0m\u001b[1;33m\u001b[0m\u001b[0m\n\u001b[0m\u001b[0;32m      8\u001b[0m \u001b[1;31m#     print(\"Отчёты =\", json_print(response.json()[\"items\"]))\u001b[0m\u001b[1;33m\u001b[0m\u001b[1;33m\u001b[0m\u001b[1;33m\u001b[0m\u001b[0m\n\u001b[0;32m      9\u001b[0m     \u001b[0mjson_print_save\u001b[0m\u001b[1;33m(\u001b[0m\u001b[1;34m\"OUT\\\\report.json\"\u001b[0m\u001b[1;33m,\u001b[0m \u001b[0mresponse\u001b[0m\u001b[1;33m.\u001b[0m\u001b[0mjson\u001b[0m\u001b[1;33m(\u001b[0m\u001b[1;33m)\u001b[0m\u001b[1;33m)\u001b[0m\u001b[1;33m\u001b[0m\u001b[1;33m\u001b[0m\u001b[0m\n",
      "\u001b[1;32mC:\\Anaconda3\\envs\\api_env\\lib\\site-packages\\requests\\models.py\u001b[0m in \u001b[0;36mjson\u001b[1;34m(self, **kwargs)\u001b[0m\n\u001b[0;32m    898\u001b[0m                     \u001b[1;31m# used.\u001b[0m\u001b[1;33m\u001b[0m\u001b[1;33m\u001b[0m\u001b[1;33m\u001b[0m\u001b[0m\n\u001b[0;32m    899\u001b[0m                     \u001b[1;32mpass\u001b[0m\u001b[1;33m\u001b[0m\u001b[1;33m\u001b[0m\u001b[0m\n\u001b[1;32m--> 900\u001b[1;33m         \u001b[1;32mreturn\u001b[0m \u001b[0mcomplexjson\u001b[0m\u001b[1;33m.\u001b[0m\u001b[0mloads\u001b[0m\u001b[1;33m(\u001b[0m\u001b[0mself\u001b[0m\u001b[1;33m.\u001b[0m\u001b[0mtext\u001b[0m\u001b[1;33m,\u001b[0m \u001b[1;33m**\u001b[0m\u001b[0mkwargs\u001b[0m\u001b[1;33m)\u001b[0m\u001b[1;33m\u001b[0m\u001b[1;33m\u001b[0m\u001b[0m\n\u001b[0m\u001b[0;32m    901\u001b[0m \u001b[1;33m\u001b[0m\u001b[0m\n\u001b[0;32m    902\u001b[0m     \u001b[1;33m@\u001b[0m\u001b[0mproperty\u001b[0m\u001b[1;33m\u001b[0m\u001b[1;33m\u001b[0m\u001b[0m\n",
      "\u001b[1;32mC:\\Anaconda3\\envs\\api_env\\lib\\site-packages\\simplejson\\__init__.py\u001b[0m in \u001b[0;36mloads\u001b[1;34m(s, encoding, cls, object_hook, parse_float, parse_int, parse_constant, object_pairs_hook, use_decimal, **kw)\u001b[0m\n\u001b[0;32m    523\u001b[0m             \u001b[0mparse_constant\u001b[0m \u001b[1;32mis\u001b[0m \u001b[1;32mNone\u001b[0m \u001b[1;32mand\u001b[0m \u001b[0mobject_pairs_hook\u001b[0m \u001b[1;32mis\u001b[0m \u001b[1;32mNone\u001b[0m\u001b[1;33m\u001b[0m\u001b[1;33m\u001b[0m\u001b[0m\n\u001b[0;32m    524\u001b[0m             and not use_decimal and not kw):\n\u001b[1;32m--> 525\u001b[1;33m         \u001b[1;32mreturn\u001b[0m \u001b[0m_default_decoder\u001b[0m\u001b[1;33m.\u001b[0m\u001b[0mdecode\u001b[0m\u001b[1;33m(\u001b[0m\u001b[0ms\u001b[0m\u001b[1;33m)\u001b[0m\u001b[1;33m\u001b[0m\u001b[1;33m\u001b[0m\u001b[0m\n\u001b[0m\u001b[0;32m    526\u001b[0m     \u001b[1;32mif\u001b[0m \u001b[0mcls\u001b[0m \u001b[1;32mis\u001b[0m \u001b[1;32mNone\u001b[0m\u001b[1;33m:\u001b[0m\u001b[1;33m\u001b[0m\u001b[1;33m\u001b[0m\u001b[0m\n\u001b[0;32m    527\u001b[0m         \u001b[0mcls\u001b[0m \u001b[1;33m=\u001b[0m \u001b[0mJSONDecoder\u001b[0m\u001b[1;33m\u001b[0m\u001b[1;33m\u001b[0m\u001b[0m\n",
      "\u001b[1;32mC:\\Anaconda3\\envs\\api_env\\lib\\site-packages\\simplejson\\decoder.py\u001b[0m in \u001b[0;36mdecode\u001b[1;34m(self, s, _w, _PY3)\u001b[0m\n\u001b[0;32m    368\u001b[0m         \u001b[1;32mif\u001b[0m \u001b[0m_PY3\u001b[0m \u001b[1;32mand\u001b[0m \u001b[0misinstance\u001b[0m\u001b[1;33m(\u001b[0m\u001b[0ms\u001b[0m\u001b[1;33m,\u001b[0m \u001b[0mbytes\u001b[0m\u001b[1;33m)\u001b[0m\u001b[1;33m:\u001b[0m\u001b[1;33m\u001b[0m\u001b[1;33m\u001b[0m\u001b[0m\n\u001b[0;32m    369\u001b[0m             \u001b[0ms\u001b[0m \u001b[1;33m=\u001b[0m \u001b[0mstr\u001b[0m\u001b[1;33m(\u001b[0m\u001b[0ms\u001b[0m\u001b[1;33m,\u001b[0m \u001b[0mself\u001b[0m\u001b[1;33m.\u001b[0m\u001b[0mencoding\u001b[0m\u001b[1;33m)\u001b[0m\u001b[1;33m\u001b[0m\u001b[1;33m\u001b[0m\u001b[0m\n\u001b[1;32m--> 370\u001b[1;33m         \u001b[0mobj\u001b[0m\u001b[1;33m,\u001b[0m \u001b[0mend\u001b[0m \u001b[1;33m=\u001b[0m \u001b[0mself\u001b[0m\u001b[1;33m.\u001b[0m\u001b[0mraw_decode\u001b[0m\u001b[1;33m(\u001b[0m\u001b[0ms\u001b[0m\u001b[1;33m)\u001b[0m\u001b[1;33m\u001b[0m\u001b[1;33m\u001b[0m\u001b[0m\n\u001b[0m\u001b[0;32m    371\u001b[0m         \u001b[0mend\u001b[0m \u001b[1;33m=\u001b[0m \u001b[0m_w\u001b[0m\u001b[1;33m(\u001b[0m\u001b[0ms\u001b[0m\u001b[1;33m,\u001b[0m \u001b[0mend\u001b[0m\u001b[1;33m)\u001b[0m\u001b[1;33m.\u001b[0m\u001b[0mend\u001b[0m\u001b[1;33m(\u001b[0m\u001b[1;33m)\u001b[0m\u001b[1;33m\u001b[0m\u001b[1;33m\u001b[0m\u001b[0m\n\u001b[0;32m    372\u001b[0m         \u001b[1;32mif\u001b[0m \u001b[0mend\u001b[0m \u001b[1;33m!=\u001b[0m \u001b[0mlen\u001b[0m\u001b[1;33m(\u001b[0m\u001b[0ms\u001b[0m\u001b[1;33m)\u001b[0m\u001b[1;33m:\u001b[0m\u001b[1;33m\u001b[0m\u001b[1;33m\u001b[0m\u001b[0m\n",
      "\u001b[1;32mC:\\Anaconda3\\envs\\api_env\\lib\\site-packages\\simplejson\\decoder.py\u001b[0m in \u001b[0;36mraw_decode\u001b[1;34m(self, s, idx, _w, _PY3)\u001b[0m\n\u001b[0;32m    398\u001b[0m             \u001b[1;32melif\u001b[0m \u001b[0mord0\u001b[0m \u001b[1;33m==\u001b[0m \u001b[1;36m0xef\u001b[0m \u001b[1;32mand\u001b[0m \u001b[0ms\u001b[0m\u001b[1;33m[\u001b[0m\u001b[0midx\u001b[0m\u001b[1;33m:\u001b[0m\u001b[0midx\u001b[0m \u001b[1;33m+\u001b[0m \u001b[1;36m3\u001b[0m\u001b[1;33m]\u001b[0m \u001b[1;33m==\u001b[0m \u001b[1;34m'\\xef\\xbb\\xbf'\u001b[0m\u001b[1;33m:\u001b[0m\u001b[1;33m\u001b[0m\u001b[1;33m\u001b[0m\u001b[0m\n\u001b[0;32m    399\u001b[0m                 \u001b[0midx\u001b[0m \u001b[1;33m+=\u001b[0m \u001b[1;36m3\u001b[0m\u001b[1;33m\u001b[0m\u001b[1;33m\u001b[0m\u001b[0m\n\u001b[1;32m--> 400\u001b[1;33m         \u001b[1;32mreturn\u001b[0m \u001b[0mself\u001b[0m\u001b[1;33m.\u001b[0m\u001b[0mscan_once\u001b[0m\u001b[1;33m(\u001b[0m\u001b[0ms\u001b[0m\u001b[1;33m,\u001b[0m \u001b[0midx\u001b[0m\u001b[1;33m=\u001b[0m\u001b[0m_w\u001b[0m\u001b[1;33m(\u001b[0m\u001b[0ms\u001b[0m\u001b[1;33m,\u001b[0m \u001b[0midx\u001b[0m\u001b[1;33m)\u001b[0m\u001b[1;33m.\u001b[0m\u001b[0mend\u001b[0m\u001b[1;33m(\u001b[0m\u001b[1;33m)\u001b[0m\u001b[1;33m)\u001b[0m\u001b[1;33m\u001b[0m\u001b[1;33m\u001b[0m\u001b[0m\n\u001b[0m",
      "\u001b[1;31mJSONDecodeError\u001b[0m: Expecting value: line 1 column 1 (char 0)"
     ]
    }
   ],
   "source": [
    "report(url)"
   ]
  },
  {
   "cell_type": "markdown",
   "id": "stylish-treasury",
   "metadata": {},
   "source": [
    "##### Получить строки таблицы"
   ]
  },
  {
   "cell_type": "code",
   "execution_count": 55,
   "id": "infrared-spectacular",
   "metadata": {},
   "outputs": [
    {
     "name": "stdout",
     "output_type": "stream",
     "text": [
      "{'tableIndex': 0, 'indexFrom': 0, 'indexTo': 2}\n",
      "url = https://hst-api.wialon.com/wialon/ajax.html?svc=report/get_result_rows&params={\"tableIndex\":0,\"indexFrom\":0,\"indexTo\":2}&sid=1096f48385052036ba290774496a3be0\n"
     ]
    }
   ],
   "source": [
    "params2 = {\n",
    "            \"tableIndex\":0,\n",
    "            \"indexFrom\":0,\n",
    "            \"indexTo\":2\n",
    "          }\n",
    "\n",
    "print(params2)\n",
    "\n",
    "data = json.dumps(params2, separators=(',', ':'))\n",
    "# print(\"data =\", data)\n",
    "url = f\"{URL}{command_report_get_result_rows}{data}&sid={CONST_SID}\"\n",
    "print(\"url =\", url)"
   ]
  },
  {
   "cell_type": "code",
   "execution_count": 56,
   "id": "dominant-detail",
   "metadata": {},
   "outputs": [
    {
     "name": "stdout",
     "output_type": "stream",
     "text": [
      "Ответ = [{'n': 0, 'i1': 45, 'i2': 52, 't1': 1611125752, 't2': 1611125866, 'd': 0, 'c': ['1', {'t': '2021-01-20 06:55:52', 'v': 1611125752, 'y': 51.5473558, 'x': 118.3227815}, {'t': '2021-01-20 06:57:46', 'v': 1611125866, 'y': 51.5471173, 'x': 118.3236066}, {'t': 'Россия, Забайкальский край, Газимурский Завод, 76А-008', 'y': 51.5473558, 'x': 118.3227815}, {'t': 'Россия, Забайкальский край, Газимурский Завод, 76А-008', 'y': 51.5471173, 'x': 118.3236066}, '0:01:54', '0.12 km', '0:00:00']}, {'n': 1, 'i1': 55, 'i2': 71, 't1': 1611187186, 't2': 1611187266, 'd': 0, 'c': ['2', {'t': '2021-01-20 23:59:46', 'v': 1611187186, 'y': 51.5469411, 'x': 118.3235025}, {'t': '2021-01-21 00:01:06', 'v': 1611187266, 'y': 51.5473963, 'x': 118.3228065}, {'t': 'Россия, Забайкальский край, Газимурский Завод, 76А-008', 'y': 51.5469411, 'x': 118.3235025}, {'t': 'Россия, Забайкальский край, Газимурский Завод, 76А-008', 'y': 51.5473963, 'x': 118.3228065}, '0:01:20', '0.19 km', '0:00:00']}, {'n': 2, 'i1': 171, 'i2': 199, 't1': 1611618689, 't2': 1611619178, 'd': 0, 'c': ['3', {'t': '2021-01-25 23:51:29', 'v': 1611618689, 'y': 51.5472555, 'x': 118.3233511}, {'t': '2021-01-25 23:59:38', 'v': 1611619178, 'y': 51.539957, 'x': 118.3297865}, {'t': 'Россия, Забайкальский край, Газимурский Завод, 76А-008', 'y': 51.5472555, 'x': 118.3233511}, {'t': 'Россия, Забайкальский край, Газимурский Завод, 76А-008', 'y': 51.539957, 'x': 118.3297865}, '0:08:09', '1.32 km', '0:00:00']}] \n",
      "\n"
     ]
    }
   ],
   "source": [
    "report(url)"
   ]
  },
  {
   "cell_type": "code",
   "execution_count": null,
   "id": "alive-longitude",
   "metadata": {},
   "outputs": [],
   "source": [
    "logout(CONST_SID)"
   ]
  }
 ],
 "metadata": {
  "kernelspec": {
   "display_name": "Python 3",
   "language": "python",
   "name": "python3"
  },
  "language_info": {
   "codemirror_mode": {
    "name": "ipython",
    "version": 3
   },
   "file_extension": ".py",
   "mimetype": "text/x-python",
   "name": "python",
   "nbconvert_exporter": "python",
   "pygments_lexer": "ipython3",
   "version": "3.8.5"
  }
 },
 "nbformat": 4,
 "nbformat_minor": 5
}
